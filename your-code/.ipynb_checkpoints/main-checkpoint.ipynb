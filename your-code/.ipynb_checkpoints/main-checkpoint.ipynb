{
 "cells": [
  {
   "cell_type": "markdown",
   "metadata": {},
   "source": [
    "# Advanced Web Scraping Lab\n",
    "\n",
    "In this lab you will first learn the following code snippet which is a simple web spider class that allows you to scrape paginated webpages. Read the code, run it, and make sure you understand how it work. In the challenges of this lab, we will guide you in building up this class so that eventually you will have a more robus web spider that you can further work on in the Web Scraping Project."
   ]
  },
  {
   "cell_type": "code",
   "execution_count": 11,
   "metadata": {},
   "outputs": [],
   "source": [
    "import requests\n",
    "from bs4 import BeautifulSoup\n",
    "\n",
    "class IronhackSpider:\n",
    "    \"\"\"\n",
    "    This is the constructor class to which you can pass a bunch of parameters. \n",
    "    These parameters are stored to the class instance variables so that the\n",
    "    class functions can access them later.\n",
    "    \n",
    "    url_pattern: the regex pattern of the web urls to scape\n",
    "    pages_to_scrape: how many pages to scrape\n",
    "    sleep_interval: the time interval in seconds to delay between requests. If <0, requests will not be delayed.\n",
    "    content_parser: a function reference that will extract the intended info from the scraped content.\n",
    "    \"\"\"\n",
    "    def __init__(self, url_pattern, pages_to_scrape=10, sleep_interval=-1, content_parser=None):\n",
    "        self.url_pattern = url_pattern\n",
    "        self.pages_to_scrape = pages_to_scrape\n",
    "        self.sleep_interval = sleep_interval\n",
    "        self.content_parser = content_parser\n",
    "    \n",
    "    \"\"\"\n",
    "    Scrape the content of a single url.\n",
    "    \"\"\"\n",
    "    def scrape_url(self, url):\n",
    "        response = requests.get(url)\n",
    "        result = self.content_parser(response.content)\n",
    "        self.output_results(result)\n",
    "    \n",
    "    \"\"\"\n",
    "    Export the scraped content. Right now it simply print out the results.\n",
    "    But in the future you can export the results into a text file or database.\n",
    "    \"\"\"\n",
    "    def output_results(self, r):\n",
    "        print(r)\n",
    "    \n",
    "    \"\"\"\n",
    "    After the class is instantiated, call this function to start the scraping jobs.\n",
    "    This function uses a FOR loop to call `scrape_url()` for each url to scrape.\n",
    "    \"\"\"\n",
    "    def kickstart(self):\n",
    "        for i in range(1, self.pages_to_scrape+1):\n",
    "            self.scrape_url(self.url_pattern % i)\n",
    "\n",
    "\n",
    "URL_PATTERN = 'http://quotes.toscrape.com/page/%s/' # regex pattern for the urls to scrape\n",
    "PAGES_TO_SCRAPE = 1 # how many webpages to scrapge\n",
    "\n",
    "\"\"\"\n",
    "This is a custom parser function you will complete in the challenge.\n",
    "Right now it simply returns the string passed to it. But in this lab\n",
    "you will complete this function so that it extracts the quotes.\n",
    "This function will be passed to the IronhackSpider class.\n",
    "\"\"\"\n",
    "def quotes_parser(content):\n",
    "    return content\n",
    "\n",
    "# Instantiate the IronhackSpider class\n",
    "my_spider = IronhackSpider(URL_PATTERN, PAGES_TO_SCRAPE, content_parser=quotes_parser)\n",
    "\n",
    "# Start scraping jobs\n",
    "# my_spider.kickstart()"
   ]
  },
  {
   "cell_type": "markdown",
   "metadata": {},
   "source": [
    "## Challenge 1 - Custom Parser Function\n",
    "\n",
    "In this challenge, complete the custom `quotes_parser()` function so that the returned result contains the quote string instead of the whole html page content.\n",
    "\n",
    "In the cell below, write your updated `quotes_parser()` function and kickstart the spider. Make sure the results being printed contain a list of quote strings extracted from the html content."
   ]
  },
  {
   "cell_type": "code",
   "execution_count": 25,
   "metadata": {},
   "outputs": [
    {
     "name": "stdout",
     "output_type": "stream",
     "text": [
      "['/', '/login', '/author/Albert-Einstein', '/tag/change/page/1/', '/tag/deep-thoughts/page/1/', '/tag/thinking/page/1/', '/tag/world/page/1/', '/author/J-K-Rowling', '/tag/abilities/page/1/', '/tag/choices/page/1/', '/author/Albert-Einstein', '/tag/inspirational/page/1/', '/tag/life/page/1/', '/tag/live/page/1/', '/tag/miracle/page/1/', '/tag/miracles/page/1/', '/author/Jane-Austen', '/tag/aliteracy/page/1/', '/tag/books/page/1/', '/tag/classic/page/1/', '/tag/humor/page/1/', '/author/Marilyn-Monroe', '/tag/be-yourself/page/1/', '/tag/inspirational/page/1/', '/author/Albert-Einstein', '/tag/adulthood/page/1/', '/tag/success/page/1/', '/tag/value/page/1/', '/author/Andre-Gide', '/tag/life/page/1/', '/tag/love/page/1/', '/author/Thomas-A-Edison', '/tag/edison/page/1/', '/tag/failure/page/1/', '/tag/inspirational/page/1/', '/tag/paraphrased/page/1/', '/author/Eleanor-Roosevelt', '/tag/misattributed-eleanor-roosevelt/page/1/', '/author/Steve-Martin', '/tag/humor/page/1/', '/tag/obvious/page/1/', '/tag/simile/page/1/', '/page/2/', '/tag/love/', '/tag/inspirational/', '/tag/life/', '/tag/humor/', '/tag/books/', '/tag/reading/', '/tag/friendship/', '/tag/friends/', '/tag/truth/', '/tag/simile/', 'https://www.goodreads.com/quotes', 'https://scrapinghub.com']\n"
     ]
    }
   ],
   "source": [
    "# your code here\n",
    "def quotes_parser(content):\n",
    "    soup = BeautifulSoup(content, 'html')\n",
    "    lista=[element['href'] for element in soup.find_all('a',href=True)]\n",
    "    return lista\n",
    "\n",
    "my_spider = IronhackSpider(URL_PATTERN, PAGES_TO_SCRAPE, content_parser=quotes_parser)\n",
    "my_spider.kickstart()"
   ]
  },
  {
   "cell_type": "markdown",
   "metadata": {},
   "source": [
    "## Challenge 2 - Error Handling\n",
    "\n",
    "In `IronhackSpider.scrape_url()`, catch any error that might occur when you make requests to scrape the webpage. This includes checking the response status code and catching http request errors such as timeout, SSL, and too many redirects.\n",
    "\n",
    "In the cell below, place your entire code including the updated `IronhackSpdier` class and the code to kickstart the spider."
   ]
  },
  {
   "cell_type": "code",
   "execution_count": 28,
   "metadata": {},
   "outputs": [
    {
     "name": "stdout",
     "output_type": "stream",
     "text": [
      "['/', '/login', '/author/Albert-Einstein', '/tag/change/page/1/', '/tag/deep-thoughts/page/1/', '/tag/thinking/page/1/', '/tag/world/page/1/', '/author/J-K-Rowling', '/tag/abilities/page/1/', '/tag/choices/page/1/', '/author/Albert-Einstein', '/tag/inspirational/page/1/', '/tag/life/page/1/', '/tag/live/page/1/', '/tag/miracle/page/1/', '/tag/miracles/page/1/', '/author/Jane-Austen', '/tag/aliteracy/page/1/', '/tag/books/page/1/', '/tag/classic/page/1/', '/tag/humor/page/1/', '/author/Marilyn-Monroe', '/tag/be-yourself/page/1/', '/tag/inspirational/page/1/', '/author/Albert-Einstein', '/tag/adulthood/page/1/', '/tag/success/page/1/', '/tag/value/page/1/', '/author/Andre-Gide', '/tag/life/page/1/', '/tag/love/page/1/', '/author/Thomas-A-Edison', '/tag/edison/page/1/', '/tag/failure/page/1/', '/tag/inspirational/page/1/', '/tag/paraphrased/page/1/', '/author/Eleanor-Roosevelt', '/tag/misattributed-eleanor-roosevelt/page/1/', '/author/Steve-Martin', '/tag/humor/page/1/', '/tag/obvious/page/1/', '/tag/simile/page/1/', '/page/2/', '/tag/love/', '/tag/inspirational/', '/tag/life/', '/tag/humor/', '/tag/books/', '/tag/reading/', '/tag/friendship/', '/tag/friends/', '/tag/truth/', '/tag/simile/', 'https://www.goodreads.com/quotes', 'https://scrapinghub.com']\n",
      "200\n"
     ]
    }
   ],
   "source": [
    "# your code here\n",
    "class IronhackSpider:\n",
    "\n",
    "    def __init__(self, url_pattern, pages_to_scrape=10, sleep_interval=-1, content_parser=None):\n",
    "        self.url_pattern = url_pattern\n",
    "        self.pages_to_scrape = pages_to_scrape\n",
    "        self.sleep_interval = sleep_interval\n",
    "        self.content_parser = content_parser\n",
    "    \n",
    "    def scrape_url(self, url):\n",
    "       \n",
    "        try:\n",
    "            response = requests.get(url,timeout=15)\n",
    "            result = self.content_parser(response.content)\n",
    "            self.output_results(result)\n",
    "            print('The response of conection is':,response.status_code)\n",
    "        except requests.exceptions.Timeout:\n",
    "            print ('We had a problem')\n",
    "\n",
    "    def output_results(self, r):\n",
    "        print(r)\n",
    "\n",
    "    def kickstart(self):\n",
    "        for i in range(1, self.pages_to_scrape+1):\n",
    "            self.scrape_url(self.url_pattern % i)\n",
    "\n",
    "def quotes_parser(content):\n",
    "    soup = BeautifulSoup(content, 'html')\n",
    "    lista=[element['href'] for element in soup.find_all('a',href=True)]\n",
    "    return lista\n",
    "\n",
    "# Instantiate the IronhackSpider class\n",
    "my_spider = IronhackSpider(URL_PATTERN, PAGES_TO_SCRAPE, content_parser=quotes_parser)\n",
    "\n",
    "# Start scraping jobs\n",
    "my_spider.kickstart()"
   ]
  },
  {
   "cell_type": "markdown",
   "metadata": {},
   "source": [
    "# Challenge 3 - Sleep Interval\n",
    "\n",
    "In `IronhackSpider.kickstart()`, implement `sleep_interval`. You will check if `self.sleep_interval` is larger than 0. If so, tell the FOR loop to sleep the given amount of time before making the next request.\n",
    "\n",
    "In the cell below, place your entire code including the updated `IronhackSpdier` class and the code to kickstart the spider."
   ]
  },
  {
   "cell_type": "code",
   "execution_count": 31,
   "metadata": {},
   "outputs": [
    {
     "name": "stdout",
     "output_type": "stream",
     "text": [
      "['/', '/login', '/author/Albert-Einstein', '/tag/change/page/1/', '/tag/deep-thoughts/page/1/', '/tag/thinking/page/1/', '/tag/world/page/1/', '/author/J-K-Rowling', '/tag/abilities/page/1/', '/tag/choices/page/1/', '/author/Albert-Einstein', '/tag/inspirational/page/1/', '/tag/life/page/1/', '/tag/live/page/1/', '/tag/miracle/page/1/', '/tag/miracles/page/1/', '/author/Jane-Austen', '/tag/aliteracy/page/1/', '/tag/books/page/1/', '/tag/classic/page/1/', '/tag/humor/page/1/', '/author/Marilyn-Monroe', '/tag/be-yourself/page/1/', '/tag/inspirational/page/1/', '/author/Albert-Einstein', '/tag/adulthood/page/1/', '/tag/success/page/1/', '/tag/value/page/1/', '/author/Andre-Gide', '/tag/life/page/1/', '/tag/love/page/1/', '/author/Thomas-A-Edison', '/tag/edison/page/1/', '/tag/failure/page/1/', '/tag/inspirational/page/1/', '/tag/paraphrased/page/1/', '/author/Eleanor-Roosevelt', '/tag/misattributed-eleanor-roosevelt/page/1/', '/author/Steve-Martin', '/tag/humor/page/1/', '/tag/obvious/page/1/', '/tag/simile/page/1/', '/page/2/', '/tag/love/', '/tag/inspirational/', '/tag/life/', '/tag/humor/', '/tag/books/', '/tag/reading/', '/tag/friendship/', '/tag/friends/', '/tag/truth/', '/tag/simile/', 'https://www.goodreads.com/quotes', 'https://scrapinghub.com']\n",
      "The response of conection is:\n",
      "200\n"
     ]
    }
   ],
   "source": [
    "# your code here\n",
    "import time\n",
    "\n",
    "class IronhackSpider:\n",
    "\n",
    "    def __init__(self, url_pattern, pages_to_scrape=10, sleep_interval=-1, content_parser=None):\n",
    "        self.url_pattern = url_pattern\n",
    "        self.pages_to_scrape = pages_to_scrape\n",
    "        self.sleep_interval = sleep_interval\n",
    "        self.content_parser = content_parser\n",
    "    \n",
    "    def scrape_url(self, url):\n",
    "       \n",
    "        try:\n",
    "            response = requests.get(url,timeout=15)\n",
    "            result = self.content_parser(response.content)\n",
    "            self.output_results(result)\n",
    "            print('The response of conection is:')\n",
    "            print(response.status_code)\n",
    "        except requests.exceptions.Timeout:\n",
    "            print ('We had a problem')\n",
    "\n",
    "    def output_results(self, r):\n",
    "        print(r)\n",
    "\n",
    "    def kickstart(self):\n",
    "        for i in range(1, self.pages_to_scrape+1):\n",
    "            self.scrape_url(self.url_pattern % i)\n",
    "            time.sleep(2)\n",
    "\n",
    "def quotes_parser(content):\n",
    "    soup = BeautifulSoup(content, 'html')\n",
    "    lista=[element['href'] for element in soup.find_all('a',href=True)]\n",
    "    return lista\n",
    "\n",
    "# Instantiate the IronhackSpider class\n",
    "my_spider = IronhackSpider(URL_PATTERN, PAGES_TO_SCRAPE, content_parser=quotes_parser)\n",
    "\n",
    "# Start scraping jobs\n",
    "my_spider.kickstart()"
   ]
  },
  {
   "cell_type": "markdown",
   "metadata": {},
   "source": [
    "# Challenge 4 - Test Batch Scraping\n",
    "\n",
    "Change the `PAGES_TO_SCRAPE` value from `1` to `10`. Try if your code still works as intended to scrape 10 webpages. If there are errors in your code, fix them.\n",
    "\n",
    "In the cell below, place your entire code including the updated `IronhackSpdier` class and the code to kickstart the spider."
   ]
  },
  {
   "cell_type": "code",
   "execution_count": 33,
   "metadata": {},
   "outputs": [
    {
     "name": "stdout",
     "output_type": "stream",
     "text": [
      "['/', '/login', '/author/J-K-Rowling', '/tag/truth/page/1/', '/author/Jimi-Hendrix', '/tag/death/page/1/', '/tag/life/page/1/', '/author/J-M-Barrie', '/tag/adventure/page/1/', '/tag/love/page/1/', '/author/E-E-Cummings', '/tag/courage/page/1/', '/author/Khaled-Hosseini', '/tag/life/page/1/', '/author/Harper-Lee', '/tag/better-life-empathy/page/1/', '/author/Madeleine-LEngle', '/tag/books/page/1/', '/tag/children/page/1/', '/tag/difficult/page/1/', '/tag/grown-ups/page/1/', '/tag/write/page/1/', '/tag/writers/page/1/', '/tag/writing/page/1/', '/author/Mark-Twain', '/tag/truth/page/1/', '/author/Dr-Seuss', '/tag/inspirational/page/1/', '/author/George-R-R-Martin', '/tag/books/page/1/', '/tag/mind/page/1/', '/page/9/', '/tag/love/', '/tag/inspirational/', '/tag/life/', '/tag/humor/', '/tag/books/', '/tag/reading/', '/tag/friendship/', '/tag/friends/', '/tag/truth/', '/tag/simile/', 'https://www.goodreads.com/quotes', 'https://scrapinghub.com']\n",
      "The response of conection is:\n",
      "200\n"
     ]
    }
   ],
   "source": [
    "# your code here\n",
    "import time\n",
    "\n",
    "class IronhackSpider:\n",
    "\n",
    "    def __init__(self, url_pattern, pages_to_scrape=10, sleep_interval=-1, content_parser=None):\n",
    "        self.url_pattern = url_pattern\n",
    "        self.pages_to_scrape = pages_to_scrape\n",
    "        self.sleep_interval = sleep_interval\n",
    "        self.content_parser = content_parser\n",
    "    \n",
    "    def scrape_url(self, url):\n",
    "       \n",
    "        try:\n",
    "            response = requests.get(url,timeout=15)\n",
    "            result = self.content_parser(response.content)\n",
    "            self.output_results(result)\n",
    "            print('The response of conection is:')\n",
    "            print(response.status_code)\n",
    "        except requests.exceptions.Timeout:\n",
    "            print ('We had a problem')\n",
    "\n",
    "    def output_results(self, r):\n",
    "        print(r)\n",
    "\n",
    "    def kickstart(self):\n",
    "        for i in range(10, self.pages_to_scrape+10):\n",
    "            self.scrape_url(self.url_pattern % i)\n",
    "            time.sleep(2)\n",
    "\n",
    "def quotes_parser(content):\n",
    "    soup = BeautifulSoup(content, 'html')\n",
    "    lista=[element['href'] for element in soup.find_all('a',href=True)]\n",
    "    return lista\n",
    "\n",
    "# Instantiate the IronhackSpider class\n",
    "my_spider = IronhackSpider(URL_PATTERN, PAGES_TO_SCRAPE, content_parser=quotes_parser)\n",
    "\n",
    "# Start scraping jobs\n",
    "my_spider.kickstart()"
   ]
  },
  {
   "cell_type": "markdown",
   "metadata": {},
   "source": [
    "# Challenge 5 - Scrape a Different Website\n",
    "\n",
    "Update the parameters passed to the `IronhackSpider` constructor so that you coder can crawl [books.toscrape.com](http://books.toscrape.com/). You will need to use a different `URL_PATTERN` (figure out the new url pattern by yourself) and write another parser function to be passed to `IronhackSpider`. \n",
    "\n",
    "In the cell below, place your entire code including the updated `IronhackSpdier` class and the code to kickstart the spider."
   ]
  },
  {
   "cell_type": "code",
   "execution_count": 51,
   "metadata": {},
   "outputs": [
    {
     "name": "stdout",
     "output_type": "stream",
     "text": [
      "['../index.html', '../index.html', 'category/books_1/index.html', 'category/books/travel_2/index.html', 'category/books/mystery_3/index.html', 'category/books/historical-fiction_4/index.html', 'category/books/sequential-art_5/index.html', 'category/books/classics_6/index.html', 'category/books/philosophy_7/index.html', 'category/books/romance_8/index.html', 'category/books/womens-fiction_9/index.html', 'category/books/fiction_10/index.html', 'category/books/childrens_11/index.html', 'category/books/religion_12/index.html', 'category/books/nonfiction_13/index.html', 'category/books/music_14/index.html', 'category/books/default_15/index.html', 'category/books/science-fiction_16/index.html', 'category/books/sports-and-games_17/index.html', 'category/books/add-a-comment_18/index.html', 'category/books/fantasy_19/index.html', 'category/books/new-adult_20/index.html', 'category/books/young-adult_21/index.html', 'category/books/science_22/index.html', 'category/books/poetry_23/index.html', 'category/books/paranormal_24/index.html', 'category/books/art_25/index.html', 'category/books/psychology_26/index.html', 'category/books/autobiography_27/index.html', 'category/books/parenting_28/index.html', 'category/books/adult-fiction_29/index.html', 'category/books/humor_30/index.html', 'category/books/horror_31/index.html', 'category/books/history_32/index.html', 'category/books/food-and-drink_33/index.html', 'category/books/christian-fiction_34/index.html', 'category/books/business_35/index.html', 'category/books/biography_36/index.html', 'category/books/thriller_37/index.html', 'category/books/contemporary_38/index.html', 'category/books/spirituality_39/index.html', 'category/books/academic_40/index.html', 'category/books/self-help_41/index.html', 'category/books/historical_42/index.html', 'category/books/christian_43/index.html', 'category/books/suspense_44/index.html', 'category/books/short-stories_45/index.html', 'category/books/novels_46/index.html', 'category/books/health_47/index.html', 'category/books/politics_48/index.html', 'category/books/cultural_49/index.html', 'category/books/erotica_50/index.html', 'category/books/crime_51/index.html', 'a-light-in-the-attic_1000/index.html', 'a-light-in-the-attic_1000/index.html', 'tipping-the-velvet_999/index.html', 'tipping-the-velvet_999/index.html', 'soumission_998/index.html', 'soumission_998/index.html', 'sharp-objects_997/index.html', 'sharp-objects_997/index.html', 'sapiens-a-brief-history-of-humankind_996/index.html', 'sapiens-a-brief-history-of-humankind_996/index.html', 'the-requiem-red_995/index.html', 'the-requiem-red_995/index.html', 'the-dirty-little-secrets-of-getting-your-dream-job_994/index.html', 'the-dirty-little-secrets-of-getting-your-dream-job_994/index.html', 'the-coming-woman-a-novel-based-on-the-life-of-the-infamous-feminist-victoria-woodhull_993/index.html', 'the-coming-woman-a-novel-based-on-the-life-of-the-infamous-feminist-victoria-woodhull_993/index.html', 'the-boys-in-the-boat-nine-americans-and-their-epic-quest-for-gold-at-the-1936-berlin-olympics_992/index.html', 'the-boys-in-the-boat-nine-americans-and-their-epic-quest-for-gold-at-the-1936-berlin-olympics_992/index.html', 'the-black-maria_991/index.html', 'the-black-maria_991/index.html', 'starving-hearts-triangular-trade-trilogy-1_990/index.html', 'starving-hearts-triangular-trade-trilogy-1_990/index.html', 'shakespeares-sonnets_989/index.html', 'shakespeares-sonnets_989/index.html', 'set-me-free_988/index.html', 'set-me-free_988/index.html', 'scott-pilgrims-precious-little-life-scott-pilgrim-1_987/index.html', 'scott-pilgrims-precious-little-life-scott-pilgrim-1_987/index.html', 'rip-it-up-and-start-again_986/index.html', 'rip-it-up-and-start-again_986/index.html', 'our-band-could-be-your-life-scenes-from-the-american-indie-underground-1981-1991_985/index.html', 'our-band-could-be-your-life-scenes-from-the-american-indie-underground-1981-1991_985/index.html', 'olio_984/index.html', 'olio_984/index.html', 'mesaerion-the-best-science-fiction-stories-1800-1849_983/index.html', 'mesaerion-the-best-science-fiction-stories-1800-1849_983/index.html', 'libertarianism-for-beginners_982/index.html', 'libertarianism-for-beginners_982/index.html', 'its-only-the-himalayas_981/index.html', 'its-only-the-himalayas_981/index.html', 'page-2.html']\n",
      "The response of conection is:\n",
      "200\n"
     ]
    }
   ],
   "source": [
    "# your code here\n",
    "\n",
    "import time\n",
    "\n",
    "class IronhackSpider:\n",
    "\n",
    "    def __init__(self, url_pattern, pages_to_scrape=10, sleep_interval=-1, content_parser=None):\n",
    "        self.url_pattern = url_pattern\n",
    "        self.pages_to_scrape = pages_to_scrape\n",
    "        self.sleep_interval = sleep_interval\n",
    "        self.content_parser = content_parser\n",
    "    \n",
    "    def scrape_url(self, url):\n",
    "        try:\n",
    "            response = requests.get(url,timeout=15)\n",
    "            result = self.content_parser(response.content)\n",
    "            self.output_results(result)\n",
    "            print('The response of conection is:')\n",
    "            print(response.status_code)\n",
    "        except requests.exceptions.Timeout:\n",
    "            print ('We had a problem')\n",
    "\n",
    "    def output_results(self, r):\n",
    "        print(r)\n",
    "\n",
    "    def kickstart(self):\n",
    "        for i in range(1, self.pages_to_scrape+1):\n",
    "            self.scrape_url(self.url_pattern%i)\n",
    "            time.sleep(2)\n",
    "\n",
    "def quotes_parser(content):\n",
    "    soup = BeautifulSoup(content, 'html')\n",
    "    lista=[element['href'] for element in soup.find_all('a',href=True)]\n",
    "    return lista\n",
    "\n",
    "# Instantiate the IronhackSpider class with the correct form of the link\n",
    "URL_PATTERN = 'https://books.toscrape.com/catalogue/page-%s.html'\n",
    "PAGES_TO_SCRAPE = 1\n",
    "my_spider = IronhackSpider(URL_PATTERN, PAGES_TO_SCRAPE, content_parser=quotes_parser)\n",
    "\n",
    "# Start scraping jobs\n",
    "my_spider.kickstart()"
   ]
  },
  {
   "cell_type": "markdown",
   "metadata": {},
   "source": [
    "# Bonus Challenge 1 - Making Your Spider Unblockable\n",
    "\n",
    "Use techniques such as randomizing user agents and referers in your requests to reduce the likelihood that your spider is blocked by websites. [Here](http://blog.adnansiddiqi.me/5-strategies-to-write-unblock-able-web-scrapers-in-python/) is a great article to learn these techniques.\n",
    "\n",
    "In the cell below, place your entire code including the updated `IronhackSpdier` class and the code to kickstart the spider."
   ]
  },
  {
   "cell_type": "code",
   "execution_count": null,
   "metadata": {},
   "outputs": [],
   "source": [
    "# your code here"
   ]
  },
  {
   "cell_type": "markdown",
   "metadata": {},
   "source": [
    "# Bonus Challenge 2 - Making Asynchronous Calls\n",
    "\n",
    "Implement asynchronous calls to `IronhackSpider`. You will make requests in parallel to complete your tasks faster.\n",
    "\n",
    "In the cell below, place your entire code including the updated `IronhackSpdier` class and the code to kickstart the spider."
   ]
  },
  {
   "cell_type": "code",
   "execution_count": null,
   "metadata": {},
   "outputs": [],
   "source": [
    "# your code here"
   ]
  }
 ],
 "metadata": {
  "kernelspec": {
   "display_name": "Python 3",
   "language": "python",
   "name": "python3"
  },
  "language_info": {
   "codemirror_mode": {
    "name": "ipython",
    "version": 3
   },
   "file_extension": ".py",
   "mimetype": "text/x-python",
   "name": "python",
   "nbconvert_exporter": "python",
   "pygments_lexer": "ipython3",
   "version": "3.8.3"
  }
 },
 "nbformat": 4,
 "nbformat_minor": 2
}
